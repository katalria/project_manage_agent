{
 "cells": [
  {
   "cell_type": "markdown",
   "id": "4fafc797",
   "metadata": {},
   "source": [
    "# 📘 DevOps 업무전환 - Epic 생성\n",
    "- **목적**: DevOps 전환을 위해 작성한 항목들을 에픽과 스토리로 구분하고, 에픽의 우선순위를 산정\n",
    "- **입력 데이터**: https://www.notion.so/devops-77d2cc12fdb74c298e98cc8a45d812db?source=copy_link\n",
    "- **주요 기능**\n",
    "  - 항목들 에픽 구성(합치거나, 스토리로 만들거나, 합쳐서 하나의 에픽으로 만들거나)\n",
    "  - 에픽 우선 순위 산정\n",
    "- **작성자**: 김동영\n",
    "- **작성일**: 2025-08-01"
   ]
  },
  {
   "cell_type": "code",
   "execution_count": null,
   "id": "798ec6d0",
   "metadata": {
    "vscode": {
     "languageId": "plaintext"
    }
   },
   "outputs": [],
   "source": []
  }
 ],
 "metadata": {
  "language_info": {
   "name": "python"
  }
 },
 "nbformat": 4,
 "nbformat_minor": 5
}

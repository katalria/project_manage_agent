{
 "cells": [
  {
   "cell_type": "markdown",
   "id": "7d5f14e5",
   "metadata": {},
   "source": [
    "# 📘 DevOps 업무전환 - Epic 생성\n",
    "- **목적**: DevOps 전환을 위해 작성한 항목들을 에픽과 스토리로 구분하고, 에픽의 우선순위를 산정\n",
    "- **입력 데이터**: https://www.notion.so/devops-77d2cc12fdb74c298e98cc8a45d812db?source=copy_link\n",
    "- **주요 기능**\n",
    "  - 항목들 에픽 구성(합치거나, 스토리로 만들거나, 합쳐서 하나의 에픽으로 만들거나)\n",
    "  - 에픽 우선 순위 산정\n",
    "- **작성자**: 김동영\n",
    "- **작성일**: 2025-08-01"
   ]
  },
  {
   "cell_type": "markdown",
   "id": "0ef6d03e",
   "metadata": {},
   "source": [
    "# 0. 환경 설정"
   ]
  },
  {
   "cell_type": "code",
   "execution_count": 1,
   "id": "76b58514",
   "metadata": {},
   "outputs": [],
   "source": [
    "import os, sys\n",
    "sys.path.append(os.path.abspath(\"../src\"))\n",
    "\n",
    "import dotenv\n",
    "import json\n",
    "\n",
    "from langchain.prompts import ChatPromptTemplate, SystemMessagePromptTemplate, HumanMessagePromptTemplate\n",
    "\n",
    "from epic.services import EpicGeneratorAgent\n",
    "# from epic.prompts import TASK_TO_EPIC_CONVERTER_PROMPT"
   ]
  },
  {
   "cell_type": "code",
   "execution_count": 2,
   "id": "65d9aaf1",
   "metadata": {},
   "outputs": [
    {
     "data": {
      "text/plain": [
       "True"
      ]
     },
     "execution_count": 2,
     "metadata": {},
     "output_type": "execute_result"
    }
   ],
   "source": [
    "dotenv.load_dotenv('../.env')"
   ]
  },
  {
   "cell_type": "markdown",
   "id": "3cf87c8a",
   "metadata": {},
   "source": [
    "# 1. 데이터 정제"
   ]
  },
  {
   "cell_type": "code",
   "execution_count": 3,
   "id": "0645bf02",
   "metadata": {},
   "outputs": [
    {
     "name": "stderr",
     "output_type": "stream",
     "text": [
      "/Users/visuworks/Documents/07_n8n/project_manage_agent/src/epic/services.py:19: LangChainDeprecationWarning: The class `ChatOpenAI` was deprecated in LangChain 0.0.10 and will be removed in 1.0. An updated version of the class exists in the :class:`~langchain-openai package and should be used instead. To use it run `pip install -U :class:`~langchain-openai` and import as `from :class:`~langchain_openai import ChatOpenAI``.\n",
      "  self.llm = ChatOpenAI(\n"
     ]
    }
   ],
   "source": [
    "# 에픽 생성 llm 모델 생성\n",
    "epic_agent = EpicGeneratorAgent(\n",
    "    openai_api_key = os.getenv(\"OPENAI_API_KEY\")\n",
    ")"
   ]
  },
  {
   "cell_type": "code",
   "execution_count": 4,
   "id": "8da38614",
   "metadata": {},
   "outputs": [],
   "source": [
    "# 프롬프트 재수정\n",
    "TASK_TO_EPIC_CONVERTER_PROMPT = ChatPromptTemplate.from_messages(\n",
    "    [SystemMessagePromptTemplate.from_template(\n",
    "        \"\"\"\n",
    "        [Role] 너는 숙련된 프로젝트 매니저이자 업무 분석 전문가다.\n",
    "        [Goal] 정리되지 않은 업무 리스트를 분석하여 관련 업무들을 그룹핑하고, 각 그룹을 하나의 Epic으로 변환하는 것.\n",
    "        [Instruction] \n",
    "          1. 주어진 업무 리스트를 분석하여 기능적으로 관련된 업무들을 식별한다.\n",
    "          2. 유사하거나 같은 기능 영역의 업무들을 하나의 Epic으로 그룹핑한다.\n",
    "          3. 각 Epic에 포함되지 않은 개별 업무는 별도의 Epic으로 생성한다.\n",
    "          4. Epic 제목은 해당 기능 영역을 대표하는 명확한 이름으로 작성한다.\n",
    "        [Constraints]\n",
    "          - 출력은 반드시 [Output Format]을 따라야 한다.\n",
    "          - Epic은 하나 이상의 스프린트에 걸쳐 진행되는 큰 기능 단위여야 한다.\n",
    "          - 불필요한 설명, 주석, 마크다운 없이 JSON만 출력한다.\n",
    "          - 최대 {max_epics}개의 Epic을 생성한다.\n",
    "          - 각 업무들로 에픽을 구성할 때 최소한의 에픽으로 구성한다\n",
    "          - acceptance_criteria는 그룹핑된 업무들을 기반으로 구체적이고 측정 가능한 기준으로 작성한다.\n",
    "          - 개발자의 업무 영역만 작성한다.\n",
    "          - 각 Epic의 included_tasks에는 해당 Epic에 포함된 원본 업무들을 나열한다.\n",
    "        [Output Format]\n",
    "        [\n",
    "          {{\n",
    "            \"title\": \"에픽 제목\",\n",
    "            \"description\": \"에픽 설명\", \n",
    "            \"business_value\": \"비즈니스 가치\",\n",
    "            \"priority\": \"High|Medium|Low\",\n",
    "            \"acceptance_criteria\": [\"수락 기준 1\", \"수락 기준 2\", \"수락 기준 3\"],\n",
    "            \"included_tasks\": [\"포함된 원본 업무 1\", \"포함된 원본 업무 2\"],\n",
    "          }}\n",
    "        ]\n",
    "        \"\"\"\n",
    "    ),\n",
    "\n",
    "    HumanMessagePromptTemplate.from_template(\n",
    "        \"\"\"\n",
    "        [Input] 정리되지 않은 업무 리스트:\n",
    "        {user_input}\n",
    "        \n",
    "        [Context] {project_info}\n",
    "        \"\"\"\n",
    "    )\n",
    "    ]\n",
    ")"
   ]
  },
  {
   "cell_type": "code",
   "execution_count": 5,
   "id": "fece075e",
   "metadata": {},
   "outputs": [],
   "source": [
    "# llm prompt에 포함할 유저 지시내용 작성(프로세스의 업무사항)\n",
    "# - 입력받은 업무를 에픽으로 변환, 여러개를 하나의 에픽으로 구성하고 구성항목을 하위항목(스토리)으로 두거나, 하나의 업무를 하나의 에픽으로 구성\n",
    "user_input = \"\"\"\n",
    "- GitHub Actions 또는 Jenkins를 활용한 End-to-End 자동화 구성\n",
    "    - PR 생성 시 Lint, Unit Test, Build, Code Quality Check 자동 실행\n",
    "    - Dockerfile 실행 오류 및 종속성 검증 포함\n",
    "- PR 병합은 `main`, `develop` 브랜치로만 제한 (브랜치 보호 규칙 설정)\n",
    "- PR 템플릿 제공 및 코드 리뷰 프로세스 문서화\n",
    "- 각 브랜치/환경별 `.env`, Secrets Manager, Parameter Store 등 사용\n",
    "- CodeBuild 연동 (`buildspec.yml`)\n",
    "- DockerHub 또는 ECR에 결과 이미지 자동 푸시\n",
    "- 결과 Slack/이메일/웹훅 알림 연동\n",
    "- 배포 트리거: GitHub Webhook, PR 병합, 수동 승인\n",
    "- **배포 전략 선택**\n",
    "    - 블루그린 배포 (Blue/Green)\n",
    "    - 카나리아 배포\n",
    "    - 롤링 배포\n",
    "- AWS IAM Role, SSH 키를 통한 보안 배포\n",
    "- 배포 전후 헬스체크 및 자동 롤백 구성\n",
    "- 배포 이력/승인 기록 관리\n",
    "- **정책 생성**\n",
    "    - 파이프라인/워크플로 명명 규칙 (`ci-<service>`, `deploy-<env>`)\n",
    "    - 신규 프로젝트 기본 템플릿 및 체크리스트 제공\n",
    "    - 배포 승인 프로세스 및 롤백 기준 명시\n",
    "\"\"\""
   ]
  },
  {
   "cell_type": "code",
   "execution_count": 6,
   "id": "d52bc18f",
   "metadata": {},
   "outputs": [
    {
     "name": "stderr",
     "output_type": "stream",
     "text": [
      "INFO:epic.services:에픽 생성 시작\n",
      "INFO:httpx:HTTP Request: POST https://api.openai.com/v1/chat/completions \"HTTP/1.1 200 OK\"\n",
      "INFO:epic.services:에픽 생성 완료\n"
     ]
    }
   ],
   "source": [
    "generated_epics_str = epic_agent._generate_epics_with_llm(\n",
    "    prompt = TASK_TO_EPIC_CONVERTER_PROMPT,\n",
    "    user_input = user_input,\n",
    "    project_info= '',\n",
    "    max_epics=10\n",
    ")"
   ]
  },
  {
   "cell_type": "code",
   "execution_count": null,
   "id": "52cf6f03",
   "metadata": {},
   "outputs": [],
   "source": [
    "parsed = json.loads(generated_epics_str)"
   ]
  },
  {
   "cell_type": "code",
   "execution_count": 20,
   "id": "7c63b3d1",
   "metadata": {},
   "outputs": [],
   "source": [
    "# llm prompt에 포함할 유저 지시내용 작성(프로세스의 업무사항)\n",
    "# - 입력받은 업무를 에픽으로 변환, 여러개를 하나의 에픽으로 구성하고 구성항목을 하위항목(스토리)으로 두거나, 하나의 업무를 하나의 에픽으로 구성\n",
    "# 하위 항목 구성 수정 \n",
    "user_input_1 = \"\"\"\n",
    "- GitHub Actions 또는 Jenkins를 활용한 End-to-End 자동화 구성(PR 생성 시 Lint, Unit Test, Build, Code Quality Check 자동 실행, Dockerfile 실행 오류 및 종속성 검증 포함\n",
    "- PR 병합은 `main`, `develop` 브랜치로만 제한 (브랜치 보호 규칙 설정)\n",
    "- 각 브랜치/환경별 `.env`, Secrets Manager, Parameter Store 등 사용\n",
    "- CodeBuild 연동 (`buildspec.yml`)\n",
    "- DockerHub 또는 ECR에 결과 이미지 자동 푸시\n",
    "- 결과 Slack/이메일/웹훅 알림 연동\n",
    "- 배포 트리거 전략 세운 후 적용( GitHub Webhook, PR 병합, 수동 승인 등)\n",
    "- **배포 전략 선택 (**블루그린 배포 (Blue/Green), 카나리아 배포, 롤링 배포 중에 선택 후 적용)\n",
    "- AWS IAM Role, SSH 키를 통한 보안 배포\n",
    "- 배포 전후 헬스체크 및 자동 롤백 구성\n",
    "- 배포 이력/승인 기록 관리\n",
    "- **정책 생성(** 파이프라인/워크플로 명명 규칙 , 신규 프로젝트 기본 템플릿 및 체크리스트 제공, 배포 승인 프로세스 및 롤백 기준 명시, PR 템플릿 제공 및 코드 리뷰 프로세스 문서화 등)\n",
    "\"\"\""
   ]
  },
  {
   "cell_type": "code",
   "execution_count": 21,
   "id": "2fe8a312",
   "metadata": {},
   "outputs": [
    {
     "name": "stderr",
     "output_type": "stream",
     "text": [
      "INFO:epic.services:에픽 생성 시작\n"
     ]
    },
    {
     "name": "stderr",
     "output_type": "stream",
     "text": [
      "INFO:httpx:HTTP Request: POST https://api.openai.com/v1/chat/completions \"HTTP/1.1 200 OK\"\n",
      "INFO:epic.services:에픽 생성 완료\n"
     ]
    }
   ],
   "source": [
    "generated_epics_str_1 = epic_agent._generate_epics_with_llm(\n",
    "    prompt = TASK_TO_EPIC_CONVERTER_PROMPT,\n",
    "    user_input = user_input_1,\n",
    "    project_info= '',\n",
    "    max_epics=10\n",
    ")"
   ]
  },
  {
   "cell_type": "code",
   "execution_count": 22,
   "id": "6325dac3",
   "metadata": {},
   "outputs": [
    {
     "name": "stdout",
     "output_type": "stream",
     "text": [
      "[{'title': 'CI/CD 자동화 구성', 'description': 'GitHub Actions 또는 Jenkins를 활용하여 End-to-End 자동화 구성 및 배포 전략 수립', 'business_value': '개발 프로세스의 효율성을 높이고, 배포 오류를 줄여 신속한 피드백을 제공', 'priority': 'High', 'acceptance_criteria': ['End-to-End 자동화가 성공적으로 구성되어 PR 생성 시 Lint, Unit Test, Build, Code Quality Check가 자동 실행됨', 'Dockerfile 실행 오류 및 종속성 검증이 성공적으로 수행됨', '결과 이미지가 DockerHub 또는 ECR에 자동으로 푸시됨'], 'included_tasks': ['GitHub Actions 또는 Jenkins를 활용한 End-to-End 자동화 구성(PR 생성 시 Lint, Unit Test, Build, Code Quality Check 자동 실행, Dockerfile 실행 오류 및 종속성 검증 포함)', 'DockerHub 또는 ECR에 결과 이미지 자동 푸시']}, {'title': '브랜치 보호 및 관리', 'description': 'PR 병합을 위한 브랜치 보호 규칙 설정 및 환경별 비밀 관리', 'business_value': '코드 품질을 유지하고, 배포 안정성을 높임', 'priority': 'Medium', 'acceptance_criteria': ['PR 병합이 `main`, `develop` 브랜치로만 제한됨', '각 브랜치/환경별 `.env`, Secrets Manager, Parameter Store 등이 성공적으로 설정됨'], 'included_tasks': ['PR 병합은 `main`, `develop` 브랜치로만 제한 (브랜치 보호 규칙 설정)', '각 브랜치/환경별 `.env`, Secrets Manager, Parameter Store 등 사용']}, {'title': '배포 전략 및 헬스체크', 'description': '배포 트리거 전략 수립 및 배포 전후 헬스체크 구성', 'business_value': '신뢰성 높은 배포를 통해 서비스 가용성을 극대화', 'priority': 'High', 'acceptance_criteria': ['배포 트리거 전략이 성공적으로 설정됨 (GitHub Webhook, PR 병합, 수동 승인 등)', '배포 전후 헬스체크 및 자동 롤백이 구성됨'], 'included_tasks': ['배포 트리거 전략 세운 후 적용( GitHub Webhook, PR 병합, 수동 승인 등)', '배포 전후 헬스체크 및 자동 롤백 구성']}, {'title': '배포 승인 및 이력 관리', 'description': '배포 이력 및 승인 기록을 관리하기 위한 정책 수립', 'business_value': '배포 과정의 투명성을 높이고, 문제 발생 시 신속한 대응 가능', 'priority': 'Medium', 'acceptance_criteria': ['배포 이력 및 승인 기록이 성공적으로 관리됨', '정책이 명확히 문서화되어 팀원들이 쉽게 접근할 수 있음'], 'included_tasks': ['배포 이력/승인 기록 관리']}, {'title': '배포 정책 및 템플릿 생성', 'description': '배포 관련 정책 및 템플릿을 생성하여 일관된 프로세스를 유지', 'business_value': '팀의 배포 프로세스를 표준화하여 효율성을 높임', 'priority': 'Low', 'acceptance_criteria': ['파이프라인/워크플로 명명 규칙이 설정됨', '신규 프로젝트 기본 템플릿 및 체크리스트가 제공됨'], 'included_tasks': ['정책 생성(파이프라인/워크플로 명명 규칙 , 신규 프로젝트 기본 템플릿 및 체크리스트 제공)']}]\n"
     ]
    }
   ],
   "source": [
    "parsed_1 = json.loads(generated_epics_str_1)\n",
    "print(parsed_1)"
   ]
  },
  {
   "cell_type": "code",
   "execution_count": 23,
   "id": "e1a0005c",
   "metadata": {},
   "outputs": [
    {
     "name": "stdout",
     "output_type": "stream",
     "text": [
      "CI/CD 자동화 구성\n",
      "브랜치 보호 및 PR 관리\n",
      "배포 전략 및 트리거 설정\n",
      "보안 배포 및 헬스체크\n",
      "배포 이력 및 승인 관리\n",
      "환경 설정 및 비밀 관리\n",
      "알림 시스템 구축\n",
      "정책 및 템플릿 관리\n"
     ]
    }
   ],
   "source": [
    "for x in parsed:\n",
    "    print(x['title'])"
   ]
  },
  {
   "cell_type": "code",
   "execution_count": 25,
   "id": "9fff537d",
   "metadata": {},
   "outputs": [
    {
     "name": "stdout",
     "output_type": "stream",
     "text": [
      "CI/CD 자동화 구성\n",
      "브랜치 보호 및 관리\n",
      "배포 전략 및 헬스체크\n",
      "배포 승인 및 이력 관리\n",
      "배포 정책 및 템플릿 생성\n"
     ]
    }
   ],
   "source": [
    "for x in parsed_1:\n",
    "    print(x['title'])"
   ]
  },
  {
   "cell_type": "code",
   "execution_count": 26,
   "id": "37649829",
   "metadata": {},
   "outputs": [],
   "source": [
    "# 하위 항목 구성 수정 \n",
    "# *및 띄어쓰기 삭제\n",
    "user_input_2 = \"\"\"GitHub Actions 또는 Jenkins를 활용한 End-to-End 자동화 구성(PR 생성 시 Lint, Unit Test, Build, Code Quality Check 자동 실행, Dockerfile 실행 오류 및 종속성 검증 포함), PR 병합은 main, develop 브랜치로만 제한 (브랜치 보호 규칙 설정), 각 브랜치/환경별 .env, Secrets Manager, Parameter Store 등 사용, CodeBuild 연동 (buildspec.yml), DockerHub 또는 ECR에 결과 이미지 자동 푸시, CI/CD 결과를 Slack/이메일/웹훅 알림으로 연동, 배포 트리거 전략 세운 후 적용(GitHub Webhook, PR 병합, 수동 승인 등), 배포 전략 선택(블루그린 배포(Blue/Green), 카나리아 배포, 롤링 배포 중에 선택 후 적용), AWS IAM Role, SSH 키를 통한 보안 배포, 배포 전후 헬스체크 및 자동 롤백 구성, 배포 이력/승인 기록 관리, 정책 생성(파이프라인/워크플로 명명 규칙, 신규 프로젝트 기본 템플릿 및 체크리스트 제공, 배포 승인 프로세스 및 롤백 기준 명시, PR 템플릿 제공 및 코드 리뷰 프로세스 문서화 등)\"\"\""
   ]
  },
  {
   "cell_type": "code",
   "execution_count": 27,
   "id": "c3a661a0",
   "metadata": {},
   "outputs": [
    {
     "name": "stderr",
     "output_type": "stream",
     "text": [
      "INFO:epic.services:에픽 생성 시작\n",
      "INFO:httpx:HTTP Request: POST https://api.openai.com/v1/chat/completions \"HTTP/1.1 200 OK\"\n",
      "INFO:epic.services:에픽 생성 완료\n"
     ]
    }
   ],
   "source": [
    "generated_epics_str_2 = epic_agent._generate_epics_with_llm(\n",
    "    prompt = TASK_TO_EPIC_CONVERTER_PROMPT,\n",
    "    user_input = user_input_2,\n",
    "    project_info= '',\n",
    "    max_epics=10\n",
    ")"
   ]
  },
  {
   "cell_type": "code",
   "execution_count": 28,
   "id": "e52f3573",
   "metadata": {},
   "outputs": [
    {
     "name": "stdout",
     "output_type": "stream",
     "text": [
      "[{'title': 'CI/CD 자동화 구성', 'description': 'GitHub Actions 또는 Jenkins를 활용하여 End-to-End CI/CD 자동화 프로세스를 구성한다.', 'business_value': '개발 및 배포 프로세스의 효율성을 높이고, 코드 품질을 유지하여 빠른 피드백을 제공한다.', 'priority': 'High', 'acceptance_criteria': ['PR 생성 시 Lint, Unit Test, Build, Code Quality Check가 자동으로 실행된다.', 'Dockerfile 실행 오류 및 종속성 검증이 포함된다.', 'CI/CD 결과가 Slack/이메일/웹훅으로 알림된다.'], 'included_tasks': ['GitHub Actions 또는 Jenkins를 활용한 End-to-End 자동화 구성', 'PR 생성 시 Lint, Unit Test, Build, Code Quality Check 자동 실행', 'Dockerfile 실행 오류 및 종속성 검증 포함', 'CI/CD 결과를 Slack/이메일/웹훅 알림으로 연동']}, {'title': '브랜치 보호 및 관리', 'description': '코드 품질을 보장하기 위해 특정 브랜치에 대한 보호 규칙을 설정하고 관리한다.', 'business_value': '코드의 안정성을 높이고, 팀원 간의 협업을 원활하게 한다.', 'priority': 'Medium', 'acceptance_criteria': ['PR 병합은 main, develop 브랜치로만 제한된다.', '브랜치 보호 규칙이 설정된다.'], 'included_tasks': ['PR 병합은 main, develop 브랜치로만 제한', '브랜치 보호 규칙 설정']}, {'title': '환경 설정 및 비밀 관리', 'description': '각 브랜치 및 환경에 필요한 설정을 관리하고 비밀 정보를 안전하게 저장한다.', 'business_value': '환경별 설정을 체계적으로 관리하여 배포의 신뢰성을 높인다.', 'priority': 'Medium', 'acceptance_criteria': ['.env, Secrets Manager, Parameter Store가 사용된다.'], 'included_tasks': ['각 브랜치/환경별 .env, Secrets Manager, Parameter Store 등 사용']}, {'title': 'Docker 이미지 관리', 'description': 'CI/CD 프로세스에서 Docker 이미지를 자동으로 빌드하고 푸시하는 기능을 구현한다.', 'business_value': '애플리케이션 배포의 일관성을 유지하고, 배포 속도를 향상시킨다.', 'priority': 'High', 'acceptance_criteria': ['CodeBuild와 연동하여 buildspec.yml이 사용된다.', 'DockerHub 또는 ECR에 결과 이미지가 자동으로 푸시된다.'], 'included_tasks': ['CodeBuild 연동 (buildspec.yml)', 'DockerHub 또는 ECR에 결과 이미지 자동 푸시']}, {'title': '배포 전략 및 트리거 관리', 'description': '효율적인 배포를 위해 다양한 배포 전략과 트리거를 설정한다.', 'business_value': '배포의 유연성을 높이고, 운영 중인 서비스의 가용성을 보장한다.', 'priority': 'High', 'acceptance_criteria': ['배포 트리거 전략이 설정된다.', '배포 전략이 블루그린, 카나리아, 롤링 중 하나로 선택된다.'], 'included_tasks': ['배포 트리거 전략 세운 후 적용', '배포 전략 선택(블루그린 배포, 카나리아 배포, 롤링 배포 중에 선택 후 적용)']}, {'title': '보안 배포 구성', 'description': '배포 과정에서 보안을 강화하기 위한 역할 및 키 관리를 수행한다.', 'business_value': '배포의 보안을 강화하여 데이터 유출 및 악의적인 공격을 방지한다.', 'priority': 'High', 'acceptance_criteria': ['AWS IAM Role 및 SSH 키를 통한 보안 배포가 구성된다.'], 'included_tasks': ['AWS IAM Role, SSH 키를 통한 보안 배포']}, {'title': '배포 헬스체크 및 롤백', 'description': '배포 전후의 상태를 점검하고 문제가 발생할 경우 자동으로 롤백하는 기능을 구현한다.', 'business_value': '서비스의 안정성을 높이고, 사용자 경험을 보호한다.', 'priority': 'High', 'acceptance_criteria': ['배포 전후 헬스체크가 수행된다.', '문제가 발생할 경우 자동 롤백이 구성된다.'], 'included_tasks': ['배포 전후 헬스체크 및 자동 롤백 구성']}, {'title': '배포 이력 및 승인 관리', 'description': '배포 이력과 승인 기록을 관리하여 추적 가능성을 높인다.', 'business_value': '배포 과정의 투명성을 높이고, 문제 발생 시 신속한 대응이 가능하다.', 'priority': 'Medium', 'acceptance_criteria': ['배포 이력 및 승인 기록이 관리된다.'], 'included_tasks': ['배포 이력/승인 기록 관리']}, {'title': '정책 및 템플릿 관리', 'description': '프로젝트의 일관성을 위해 배포 관련 정책과 템플릿을 제공한다.', 'business_value': '팀의 작업 효율성을 높이고, 품질 기준을 유지한다.', 'priority': 'Medium', 'acceptance_criteria': ['파이프라인/워크플로 명명 규칙이 설정된다.', '신규 프로젝트 기본 템플릿 및 체크리스트가 제공된다.'], 'included_tasks': ['정책 생성(파이프라인/워크플로 명명 규칙, 신규 프로젝트 기본 템플릿 및 체크리스트 제공)']}]\n"
     ]
    }
   ],
   "source": [
    "parsed_2 = json.loads(generated_epics_str_1)\n",
    "print(parsed_2)"
   ]
  }
 ],
 "metadata": {
  "kernelspec": {
   "display_name": "project-manage-agent-py3.11",
   "language": "python",
   "name": "python3"
  },
  "language_info": {
   "codemirror_mode": {
    "name": "ipython",
    "version": 3
   },
   "file_extension": ".py",
   "mimetype": "text/x-python",
   "name": "python",
   "nbconvert_exporter": "python",
   "pygments_lexer": "ipython3",
   "version": "3.11.7"
  }
 },
 "nbformat": 4,
 "nbformat_minor": 5
}

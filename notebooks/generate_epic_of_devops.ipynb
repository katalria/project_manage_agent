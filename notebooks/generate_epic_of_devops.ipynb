{
 "cells": [
  {
   "cell_type": "markdown",
   "id": "7d5f14e5",
   "metadata": {},
   "source": [
    "# 📘 DevOps 업무전환 - Epic 생성\n",
    "- **목적**: DevOps 전환을 위해 작성한 항목들을 에픽과 스토리로 구분하고, 에픽의 우선순위를 산정\n",
    "- **입력 데이터**: https://www.notion.so/devops-77d2cc12fdb74c298e98cc8a45d812db?source=copy_link\n",
    "- **주요 기능**\n",
    "  - 항목들 에픽 구성(합치거나, 스토리로 만들거나, 합쳐서 하나의 에픽으로 만들거나)\n",
    "  - 에픽 우선 순위 산정\n",
    "- **작성자**: 김동영\n",
    "- **작성일**: 2025-08-01"
   ]
  },
  {
   "cell_type": "markdown",
   "id": "0ef6d03e",
   "metadata": {},
   "source": [
    "# 0. 환경 설정"
   ]
  },
  {
   "cell_type": "code",
   "execution_count": 3,
   "id": "64d297f0",
   "metadata": {},
   "outputs": [
    {
     "name": "stdout",
     "output_type": "stream",
     "text": [
      "Requirement already satisfied: langchain<0.4.0,>=0.3.25 in /opt/homebrew/lib/python3.11/site-packages (0.3.27)\n",
      "Requirement already satisfied: fastapi>=0.100.0 in /opt/homebrew/lib/python3.11/site-packages (from fastapi[standard]>=0.100.0) (0.116.1)\n",
      "Requirement already satisfied: pydantic>=2.0.0 in /opt/homebrew/lib/python3.11/site-packages (2.10.6)\n",
      "Requirement already satisfied: openai<2.0.0,>=1.84.0 in /opt/homebrew/lib/python3.11/site-packages (1.99.3)\n",
      "Requirement already satisfied: python-dotenv<2.0.0,>=1.1.0 in /opt/homebrew/lib/python3.11/site-packages (1.1.0)\n",
      "Requirement already satisfied: langchain-community<0.4.0,>=0.3.24 in /opt/homebrew/lib/python3.11/site-packages (0.3.27)\n",
      "Requirement already satisfied: pandas<3.0.0,>=2.0.0 in /opt/homebrew/lib/python3.11/site-packages (2.2.3)\n",
      "Requirement already satisfied: langgraph<0.6.0,>=0.5.2 in /opt/homebrew/lib/python3.11/site-packages (0.5.4)\n",
      "Requirement already satisfied: langchain-core<1.0.0,>=0.3.72 in /opt/homebrew/lib/python3.11/site-packages (from langchain<0.4.0,>=0.3.25) (0.3.74)\n",
      "Requirement already satisfied: langchain-text-splitters<1.0.0,>=0.3.9 in /opt/homebrew/lib/python3.11/site-packages (from langchain<0.4.0,>=0.3.25) (0.3.9)\n",
      "Requirement already satisfied: langsmith>=0.1.17 in /opt/homebrew/lib/python3.11/site-packages (from langchain<0.4.0,>=0.3.25) (0.4.13)\n",
      "Requirement already satisfied: SQLAlchemy<3,>=1.4 in /opt/homebrew/lib/python3.11/site-packages (from langchain<0.4.0,>=0.3.25) (1.4.54)\n",
      "Requirement already satisfied: requests<3,>=2 in /opt/homebrew/lib/python3.11/site-packages (from langchain<0.4.0,>=0.3.25) (2.32.3)\n",
      "Requirement already satisfied: PyYAML>=5.3 in /opt/homebrew/lib/python3.11/site-packages (from langchain<0.4.0,>=0.3.25) (6.0.2)\n",
      "Requirement already satisfied: starlette<0.48.0,>=0.40.0 in /opt/homebrew/lib/python3.11/site-packages (from fastapi>=0.100.0->fastapi[standard]>=0.100.0) (0.47.2)\n",
      "Requirement already satisfied: typing-extensions>=4.8.0 in /opt/homebrew/lib/python3.11/site-packages (from fastapi>=0.100.0->fastapi[standard]>=0.100.0) (4.12.2)\n",
      "Requirement already satisfied: annotated-types>=0.6.0 in /opt/homebrew/lib/python3.11/site-packages (from pydantic>=2.0.0) (0.6.0)\n",
      "Requirement already satisfied: pydantic-core==2.27.2 in /opt/homebrew/lib/python3.11/site-packages (from pydantic>=2.0.0) (2.27.2)\n",
      "Requirement already satisfied: anyio<5,>=3.5.0 in /opt/homebrew/lib/python3.11/site-packages (from openai<2.0.0,>=1.84.0) (4.9.0)\n",
      "Requirement already satisfied: distro<2,>=1.7.0 in /opt/homebrew/lib/python3.11/site-packages (from openai<2.0.0,>=1.84.0) (1.9.0)\n",
      "Requirement already satisfied: httpx<1,>=0.23.0 in /opt/homebrew/lib/python3.11/site-packages (from openai<2.0.0,>=1.84.0) (0.28.1)\n",
      "Requirement already satisfied: jiter<1,>=0.4.0 in /opt/homebrew/lib/python3.11/site-packages (from openai<2.0.0,>=1.84.0) (0.10.0)\n",
      "Requirement already satisfied: sniffio in /opt/homebrew/lib/python3.11/site-packages (from openai<2.0.0,>=1.84.0) (1.3.1)\n",
      "Requirement already satisfied: tqdm>4 in /opt/homebrew/lib/python3.11/site-packages (from openai<2.0.0,>=1.84.0) (4.67.1)\n",
      "Requirement already satisfied: aiohttp<4.0.0,>=3.8.3 in /opt/homebrew/lib/python3.11/site-packages (from langchain-community<0.4.0,>=0.3.24) (3.10.10)\n",
      "Requirement already satisfied: tenacity!=8.4.0,<10,>=8.1.0 in /opt/homebrew/lib/python3.11/site-packages (from langchain-community<0.4.0,>=0.3.24) (9.0.0)\n",
      "Requirement already satisfied: dataclasses-json<0.7,>=0.5.7 in /opt/homebrew/lib/python3.11/site-packages (from langchain-community<0.4.0,>=0.3.24) (0.6.7)\n",
      "Requirement already satisfied: pydantic-settings<3.0.0,>=2.4.0 in /opt/homebrew/lib/python3.11/site-packages (from langchain-community<0.4.0,>=0.3.24) (2.10.1)\n",
      "Requirement already satisfied: httpx-sse<1.0.0,>=0.4.0 in /opt/homebrew/lib/python3.11/site-packages (from langchain-community<0.4.0,>=0.3.24) (0.4.1)\n",
      "Requirement already satisfied: numpy>=1.26.2 in /opt/homebrew/lib/python3.11/site-packages (from langchain-community<0.4.0,>=0.3.24) (2.1.1)\n",
      "Requirement already satisfied: python-dateutil>=2.8.2 in /Users/junkiwon/Library/Python/3.11/lib/python/site-packages (from pandas<3.0.0,>=2.0.0) (2.9.0.post0)\n",
      "Requirement already satisfied: pytz>=2020.1 in /opt/homebrew/lib/python3.11/site-packages (from pandas<3.0.0,>=2.0.0) (2024.2)\n",
      "Requirement already satisfied: tzdata>=2022.7 in /opt/homebrew/lib/python3.11/site-packages (from pandas<3.0.0,>=2.0.0) (2024.2)\n",
      "Requirement already satisfied: langgraph-checkpoint<3.0.0,>=2.1.0 in /opt/homebrew/lib/python3.11/site-packages (from langgraph<0.6.0,>=0.5.2) (2.1.1)\n",
      "Requirement already satisfied: langgraph-prebuilt<0.6.0,>=0.5.0 in /opt/homebrew/lib/python3.11/site-packages (from langgraph<0.6.0,>=0.5.2) (0.5.2)\n",
      "Requirement already satisfied: langgraph-sdk<0.2.0,>=0.1.42 in /opt/homebrew/lib/python3.11/site-packages (from langgraph<0.6.0,>=0.5.2) (0.1.74)\n",
      "Requirement already satisfied: xxhash>=3.5.0 in /opt/homebrew/lib/python3.11/site-packages (from langgraph<0.6.0,>=0.5.2) (3.5.0)\n",
      "Requirement already satisfied: fastapi-cli>=0.0.8 in /opt/homebrew/lib/python3.11/site-packages (from fastapi-cli[standard]>=0.0.8; extra == \"standard\"->fastapi[standard]>=0.100.0) (0.0.8)\n",
      "Requirement already satisfied: jinja2>=3.1.5 in /opt/homebrew/lib/python3.11/site-packages (from fastapi[standard]>=0.100.0) (3.1.6)\n",
      "Requirement already satisfied: python-multipart>=0.0.18 in /opt/homebrew/lib/python3.11/site-packages (from fastapi[standard]>=0.100.0) (0.0.20)\n",
      "Requirement already satisfied: email-validator>=2.0.0 in /opt/homebrew/lib/python3.11/site-packages (from fastapi[standard]>=0.100.0) (2.2.0)\n",
      "Requirement already satisfied: uvicorn>=0.12.0 in /opt/homebrew/lib/python3.11/site-packages (from uvicorn[standard]>=0.12.0; extra == \"standard\"->fastapi[standard]>=0.100.0) (0.35.0)\n",
      "Requirement already satisfied: aiohappyeyeballs>=2.3.0 in /opt/homebrew/lib/python3.11/site-packages (from aiohttp<4.0.0,>=3.8.3->langchain-community<0.4.0,>=0.3.24) (2.4.3)\n",
      "Requirement already satisfied: aiosignal>=1.1.2 in /opt/homebrew/lib/python3.11/site-packages (from aiohttp<4.0.0,>=3.8.3->langchain-community<0.4.0,>=0.3.24) (1.3.1)\n",
      "Requirement already satisfied: attrs>=17.3.0 in /opt/homebrew/lib/python3.11/site-packages (from aiohttp<4.0.0,>=3.8.3->langchain-community<0.4.0,>=0.3.24) (24.2.0)\n",
      "Requirement already satisfied: frozenlist>=1.1.1 in /opt/homebrew/lib/python3.11/site-packages (from aiohttp<4.0.0,>=3.8.3->langchain-community<0.4.0,>=0.3.24) (1.5.0)\n",
      "Requirement already satisfied: multidict<7.0,>=4.5 in /opt/homebrew/lib/python3.11/site-packages (from aiohttp<4.0.0,>=3.8.3->langchain-community<0.4.0,>=0.3.24) (6.1.0)\n",
      "Requirement already satisfied: yarl<2.0,>=1.12.0 in /opt/homebrew/lib/python3.11/site-packages (from aiohttp<4.0.0,>=3.8.3->langchain-community<0.4.0,>=0.3.24) (1.17.1)\n",
      "Requirement already satisfied: idna>=2.8 in /opt/homebrew/lib/python3.11/site-packages (from anyio<5,>=3.5.0->openai<2.0.0,>=1.84.0) (3.10)\n",
      "Requirement already satisfied: marshmallow<4.0.0,>=3.18.0 in /opt/homebrew/lib/python3.11/site-packages (from dataclasses-json<0.7,>=0.5.7->langchain-community<0.4.0,>=0.3.24) (3.23.1)\n",
      "Requirement already satisfied: typing-inspect<1,>=0.4.0 in /opt/homebrew/lib/python3.11/site-packages (from dataclasses-json<0.7,>=0.5.7->langchain-community<0.4.0,>=0.3.24) (0.9.0)\n",
      "Requirement already satisfied: dnspython>=2.0.0 in /opt/homebrew/lib/python3.11/site-packages (from email-validator>=2.0.0->fastapi[standard]>=0.100.0) (2.7.0)\n",
      "Requirement already satisfied: typer>=0.15.1 in /opt/homebrew/lib/python3.11/site-packages (from fastapi-cli>=0.0.8->fastapi-cli[standard]>=0.0.8; extra == \"standard\"->fastapi[standard]>=0.100.0) (0.16.0)\n",
      "Requirement already satisfied: rich-toolkit>=0.14.8 in /opt/homebrew/lib/python3.11/site-packages (from fastapi-cli>=0.0.8->fastapi-cli[standard]>=0.0.8; extra == \"standard\"->fastapi[standard]>=0.100.0) (0.14.9)\n",
      "Requirement already satisfied: fastapi-cloud-cli>=0.1.1 in /opt/homebrew/lib/python3.11/site-packages (from fastapi-cli[standard]>=0.0.8; extra == \"standard\"->fastapi[standard]>=0.100.0) (0.1.5)\n",
      "Requirement already satisfied: certifi in /opt/homebrew/lib/python3.11/site-packages (from httpx<1,>=0.23.0->openai<2.0.0,>=1.84.0) (2025.4.26)\n",
      "Requirement already satisfied: httpcore==1.* in /opt/homebrew/lib/python3.11/site-packages (from httpx<1,>=0.23.0->openai<2.0.0,>=1.84.0) (1.0.6)\n",
      "Requirement already satisfied: h11<0.15,>=0.13 in /opt/homebrew/lib/python3.11/site-packages (from httpcore==1.*->httpx<1,>=0.23.0->openai<2.0.0,>=1.84.0) (0.14.0)\n",
      "Requirement already satisfied: MarkupSafe>=2.0 in /opt/homebrew/lib/python3.11/site-packages (from jinja2>=3.1.5->fastapi[standard]>=0.100.0) (3.0.2)\n",
      "Requirement already satisfied: jsonpatch<2.0,>=1.33 in /opt/homebrew/lib/python3.11/site-packages (from langchain-core<1.0.0,>=0.3.72->langchain<0.4.0,>=0.3.25) (1.33)\n",
      "Requirement already satisfied: packaging>=23.2 in /opt/homebrew/lib/python3.11/site-packages (from langchain-core<1.0.0,>=0.3.72->langchain<0.4.0,>=0.3.25) (25.0)\n",
      "Requirement already satisfied: ormsgpack>=1.10.0 in /opt/homebrew/lib/python3.11/site-packages (from langgraph-checkpoint<3.0.0,>=2.1.0->langgraph<0.6.0,>=0.5.2) (1.10.0)\n",
      "Requirement already satisfied: orjson>=3.10.1 in /opt/homebrew/lib/python3.11/site-packages (from langgraph-sdk<0.2.0,>=0.1.42->langgraph<0.6.0,>=0.5.2) (3.11.1)\n",
      "Requirement already satisfied: requests-toolbelt>=1.0.0 in /opt/homebrew/lib/python3.11/site-packages (from langsmith>=0.1.17->langchain<0.4.0,>=0.3.25) (1.0.0)\n",
      "Requirement already satisfied: zstandard>=0.23.0 in /opt/homebrew/lib/python3.11/site-packages (from langsmith>=0.1.17->langchain<0.4.0,>=0.3.25) (0.23.0)\n",
      "Requirement already satisfied: typing-inspection>=0.4.0 in /opt/homebrew/lib/python3.11/site-packages (from pydantic-settings<3.0.0,>=2.4.0->langchain-community<0.4.0,>=0.3.24) (0.4.1)\n",
      "Requirement already satisfied: six>=1.5 in /Users/junkiwon/Library/Python/3.11/lib/python/site-packages (from python-dateutil>=2.8.2->pandas<3.0.0,>=2.0.0) (1.16.0)\n",
      "Requirement already satisfied: charset-normalizer<4,>=2 in /opt/homebrew/lib/python3.11/site-packages (from requests<3,>=2->langchain<0.4.0,>=0.3.25) (3.4.0)\n",
      "Requirement already satisfied: urllib3<3,>=1.21.1 in /opt/homebrew/lib/python3.11/site-packages (from requests<3,>=2->langchain<0.4.0,>=0.3.25) (2.2.3)\n",
      "Requirement already satisfied: click>=7.0 in /opt/homebrew/lib/python3.11/site-packages (from uvicorn>=0.12.0->uvicorn[standard]>=0.12.0; extra == \"standard\"->fastapi[standard]>=0.100.0) (8.1.7)\n",
      "Requirement already satisfied: httptools>=0.6.3 in /opt/homebrew/lib/python3.11/site-packages (from uvicorn[standard]>=0.12.0; extra == \"standard\"->fastapi[standard]>=0.100.0) (0.6.4)\n",
      "Requirement already satisfied: uvloop>=0.15.1 in /opt/homebrew/lib/python3.11/site-packages (from uvicorn[standard]>=0.12.0; extra == \"standard\"->fastapi[standard]>=0.100.0) (0.21.0)\n",
      "Requirement already satisfied: watchfiles>=0.13 in /opt/homebrew/lib/python3.11/site-packages (from uvicorn[standard]>=0.12.0; extra == \"standard\"->fastapi[standard]>=0.100.0) (1.1.0)\n",
      "Requirement already satisfied: websockets>=10.4 in /opt/homebrew/lib/python3.11/site-packages (from uvicorn[standard]>=0.12.0; extra == \"standard\"->fastapi[standard]>=0.100.0) (15.0.1)\n",
      "Requirement already satisfied: rignore>=0.5.1 in /opt/homebrew/lib/python3.11/site-packages (from fastapi-cloud-cli>=0.1.1->fastapi-cli[standard]>=0.0.8; extra == \"standard\"->fastapi[standard]>=0.100.0) (0.6.4)\n",
      "Requirement already satisfied: sentry-sdk>=2.20.0 in /opt/homebrew/lib/python3.11/site-packages (from fastapi-cloud-cli>=0.1.1->fastapi-cli[standard]>=0.0.8; extra == \"standard\"->fastapi[standard]>=0.100.0) (2.34.1)\n",
      "Requirement already satisfied: jsonpointer>=1.9 in /opt/homebrew/lib/python3.11/site-packages (from jsonpatch<2.0,>=1.33->langchain-core<1.0.0,>=0.3.72->langchain<0.4.0,>=0.3.25) (3.0.0)\n",
      "Requirement already satisfied: rich>=13.7.1 in /opt/homebrew/lib/python3.11/site-packages (from rich-toolkit>=0.14.8->fastapi-cli>=0.0.8->fastapi-cli[standard]>=0.0.8; extra == \"standard\"->fastapi[standard]>=0.100.0) (13.9.4)\n",
      "Requirement already satisfied: shellingham>=1.3.0 in /opt/homebrew/lib/python3.11/site-packages (from typer>=0.15.1->fastapi-cli>=0.0.8->fastapi-cli[standard]>=0.0.8; extra == \"standard\"->fastapi[standard]>=0.100.0) (1.5.4)\n",
      "Requirement already satisfied: mypy-extensions>=0.3.0 in /opt/homebrew/lib/python3.11/site-packages (from typing-inspect<1,>=0.4.0->dataclasses-json<0.7,>=0.5.7->langchain-community<0.4.0,>=0.3.24) (1.1.0)\n",
      "Requirement already satisfied: propcache>=0.2.0 in /opt/homebrew/lib/python3.11/site-packages (from yarl<2.0,>=1.12.0->aiohttp<4.0.0,>=3.8.3->langchain-community<0.4.0,>=0.3.24) (0.2.0)\n",
      "Requirement already satisfied: markdown-it-py>=2.2.0 in /opt/homebrew/lib/python3.11/site-packages (from rich>=13.7.1->rich-toolkit>=0.14.8->fastapi-cli>=0.0.8->fastapi-cli[standard]>=0.0.8; extra == \"standard\"->fastapi[standard]>=0.100.0) (3.0.0)\n",
      "Requirement already satisfied: pygments<3.0.0,>=2.13.0 in /Users/junkiwon/Library/Python/3.11/lib/python/site-packages (from rich>=13.7.1->rich-toolkit>=0.14.8->fastapi-cli>=0.0.8->fastapi-cli[standard]>=0.0.8; extra == \"standard\"->fastapi[standard]>=0.100.0) (2.18.0)\n",
      "Requirement already satisfied: mdurl~=0.1 in /opt/homebrew/lib/python3.11/site-packages (from markdown-it-py>=2.2.0->rich>=13.7.1->rich-toolkit>=0.14.8->fastapi-cli>=0.0.8->fastapi-cli[standard]>=0.0.8; extra == \"standard\"->fastapi[standard]>=0.100.0) (0.1.2)\n",
      "\n",
      "\u001b[1m[\u001b[0m\u001b[34;49mnotice\u001b[0m\u001b[1;39;49m]\u001b[0m\u001b[39;49m A new release of pip is available: \u001b[0m\u001b[31;49m24.3.1\u001b[0m\u001b[39;49m -> \u001b[0m\u001b[32;49m25.2\u001b[0m\n",
      "\u001b[1m[\u001b[0m\u001b[34;49mnotice\u001b[0m\u001b[1;39;49m]\u001b[0m\u001b[39;49m To update, run: \u001b[0m\u001b[32;49mpython3.11 -m pip install --upgrade pip\u001b[0m\n"
     ]
    }
   ],
   "source": [
    "!pip install \"langchain>=0.3.25,<0.4.0\" \"fastapi[standard]>=0.100.0\" \"pydantic>=2.0.0\" \"openai>=1.84.0,<2.0.0\" \"python-dotenv>=1.1.0,<2.0.0\" \"langchain-community>=0.3.24,<0.4.0\" \"pandas>=2.0.0,<3.0.0\" \"langgraph>=0.5.2,<0.6.0\""
   ]
  },
  {
   "cell_type": "code",
   "execution_count": 5,
   "id": "749c6084",
   "metadata": {},
   "outputs": [
    {
     "name": "stdout",
     "output_type": "stream",
     "text": [
      "langchain                                0.3.27\n",
      "langchain-community                      0.3.27\n",
      "langchain-core                           0.3.74\n",
      "langchain-text-splitters                 0.3.9\n"
     ]
    }
   ],
   "source": [
    "!pip list |grep langchain"
   ]
  },
  {
   "cell_type": "code",
   "execution_count": 1,
   "id": "76b58514",
   "metadata": {},
   "outputs": [],
   "source": [
    "import os, sys\n",
    "sys.path.append(os.path.abspath(\"../src\"))\n",
    "\n",
    "import dotenv\n",
    "import json\n",
    "\n",
    "from langchain.prompts import ChatPromptTemplate, SystemMessagePromptTemplate, HumanMessagePromptTemplate\n",
    "\n",
    "from epic.services import EpicGeneratorAgent\n",
    "# from epic.prompts import TASK_TO_EPIC_CONVERTER_PROMPT"
   ]
  },
  {
   "cell_type": "code",
   "execution_count": 2,
   "id": "65d9aaf1",
   "metadata": {},
   "outputs": [
    {
     "data": {
      "text/plain": [
       "True"
      ]
     },
     "execution_count": 2,
     "metadata": {},
     "output_type": "execute_result"
    }
   ],
   "source": [
    "dotenv.load_dotenv('../.env')"
   ]
  },
  {
   "cell_type": "markdown",
   "id": "3cf87c8a",
   "metadata": {},
   "source": [
    "# 1. 데이터 정제"
   ]
  },
  {
   "cell_type": "code",
   "execution_count": 3,
   "id": "0645bf02",
   "metadata": {},
   "outputs": [
    {
     "name": "stderr",
     "output_type": "stream",
     "text": [
      "/Users/junkiwon/Desktop/IOL/work directory/project_manage_agent/src/epic/services.py:19: LangChainDeprecationWarning: The class `ChatOpenAI` was deprecated in LangChain 0.0.10 and will be removed in 1.0. An updated version of the class exists in the :class:`~langchain-openai package and should be used instead. To use it run `pip install -U :class:`~langchain-openai` and import as `from :class:`~langchain_openai import ChatOpenAI``.\n",
      "  self.llm = ChatOpenAI(\n"
     ]
    }
   ],
   "source": [
    "# 에픽 생성 llm 모델 생성\n",
    "epic_agent = EpicGeneratorAgent(\n",
    "    openai_api_key = os.getenv(\"OPENAI_API_KEY\")\n",
    ")"
   ]
  },
  {
   "cell_type": "code",
   "execution_count": 4,
   "id": "8da38614",
   "metadata": {},
   "outputs": [],
   "source": [
    "# 프롬프트 재수정\n",
    "TASK_TO_EPIC_CONVERTER_PROMPT = ChatPromptTemplate.from_messages(\n",
    "    [SystemMessagePromptTemplate.from_template(\n",
    "        \"\"\"\n",
    "        [Role] 너는 숙련된 프로젝트 매니저이자 업무 분석 전문가다.\n",
    "        [Goal] 정리되지 않은 업무 리스트를 분석하여 관련 업무들을 그룹핑하고, 각 그룹을 하나의 Epic으로 변환하는 것.\n",
    "        [Instruction] \n",
    "          1. 주어진 업무 리스트를 분석하여 기능적으로 관련된 업무들을 식별한다.\n",
    "          2. 유사하거나 같은 기능 영역의 업무들을 하나의 Epic으로 그룹핑한다.\n",
    "          3. 각 Epic에 포함되지 않은 개별 업무는 별도의 Epic으로 생성한다.\n",
    "          4. Epic 제목은 해당 기능 영역을 대표하는 명확한 이름으로 작성한다.\n",
    "        [Constraints]\n",
    "          - 출력은 반드시 [Output Format]을 따라야 한다.\n",
    "          - Epic은 하나 이상의 스프린트에 걸쳐 진행되는 큰 기능 단위여야 한다.\n",
    "          - 불필요한 설명, 주석, 마크다운 없이 JSON만 출력한다.\n",
    "          - 최대 {max_epics}개의 Epic을 생성한다.\n",
    "          - 각 업무들로 에픽을 구성할 때 최소한의 에픽으로 구성한다\n",
    "          - acceptance_criteria는 그룹핑된 업무들을 기반으로 구체적이고 측정 가능한 기준으로 작성한다.\n",
    "          - 개발자의 업무 영역만 작성한다.\n",
    "          - 각 Epic의 included_tasks에는 해당 Epic에 포함된 원본 업무들을 나열한다.\n",
    "        [Output Format]\n",
    "        [\n",
    "          {{\n",
    "            \"title\": \"에픽 제목\",\n",
    "            \"description\": \"에픽 설명\", \n",
    "            \"business_value\": \"비즈니스 가치\",\n",
    "            \"priority\": \"High|Medium|Low\",\n",
    "            \"acceptance_criteria\": [\"수락 기준 1\", \"수락 기준 2\", \"수락 기준 3\"],\n",
    "            \"included_tasks\": [\"포함된 원본 업무 1\", \"포함된 원본 업무 2\"],\n",
    "          }}\n",
    "        ]\n",
    "        \"\"\"\n",
    "    ),\n",
    "\n",
    "    HumanMessagePromptTemplate.from_template(\n",
    "        \"\"\"\n",
    "        [Input] 정리되지 않은 업무 리스트:\n",
    "        {user_input}\n",
    "        \n",
    "        [Context] {project_info}\n",
    "        \"\"\"\n",
    "    )\n",
    "    ]\n",
    ")"
   ]
  },
  {
   "cell_type": "code",
   "execution_count": 13,
   "id": "fece075e",
   "metadata": {},
   "outputs": [],
   "source": [
    "# llm prompt에 포함할 유저 지시내용 작성(프로세스의 업무사항)\n",
    "# - 입력받은 업무를 에픽으로 변환, 여러개를 하나의 에픽으로 구성하고 구성항목을 하위항목(스토리)으로 두거나, 하나의 업무를 하나의 에픽으로 구성\n",
    "user_input = \"\"\"\n",
    "- GitHub Actions 또는 Jenkins를 활용한 End-to-End 자동화 구성\n",
    "    - PR 생성 시 Lint, Unit Test, Build, Code Quality Check 자동 실행\n",
    "    - Dockerfile 실행 오류 및 종속성 검증 포함\n",
    "- PR 병합은 `main`, `develop` 브랜치로만 제한 (브랜치 보호 규칙 설정)\n",
    "- PR 템플릿 제공 및 코드 리뷰 프로세스 문서화\n",
    "- 각 브랜치/환경별 `.env`, Secrets Manager, Parameter Store 등 사용\n",
    "- CodeBuild 연동 (`buildspec.yml`)\n",
    "- DockerHub 또는 ECR에 결과 이미지 자동 푸시\n",
    "- 결과 Slack/이메일/웹훅 알림 연동\n",
    "- 배포 트리거: GitHub Webhook, PR 병합, 수동 승인\n",
    "- **배포 전략 선택**\n",
    "    - 블루그린 배포 (Blue/Green)\n",
    "    - 카나리아 배포\n",
    "    - 롤링 배포\n",
    "- AWS IAM Role, SSH 키를 통한 보안 배포\n",
    "- 배포 전후 헬스체크 및 자동 롤백 구성\n",
    "- 배포 이력/승인 기록 관리\n",
    "- **정책 생성**\n",
    "    - 파이프라인/워크플로 명명 규칙 (`ci-<service>`, `deploy-<env>`)\n",
    "    - 신규 프로젝트 기본 템플릿 및 체크리스트 제공\n",
    "    - 배포 승인 프로세스 및 롤백 기준 명시\n",
    "\"\"\""
   ]
  },
  {
   "cell_type": "code",
   "execution_count": 14,
   "id": "d52bc18f",
   "metadata": {},
   "outputs": [
    {
     "name": "stderr",
     "output_type": "stream",
     "text": [
      "INFO:epic.services:에픽 생성 시작\n",
      "INFO:httpx:HTTP Request: POST https://api.openai.com/v1/chat/completions \"HTTP/1.1 200 OK\"\n",
      "INFO:epic.services:에픽 생성 완료\n"
     ]
    }
   ],
   "source": [
    "generated_epics_str = epic_agent._generate_epics_with_llm(\n",
    "    prompt = TASK_TO_EPIC_CONVERTER_PROMPT,\n",
    "    user_input = user_input,\n",
    "    project_info= '',\n",
    "    max_epics=10\n",
    ")"
   ]
  },
  {
   "cell_type": "code",
   "execution_count": 28,
   "id": "52cf6f03",
   "metadata": {},
   "outputs": [
    {
     "data": {
      "text/plain": [
       "[{'title': 'CI/CD 자동화 구성',\n",
       "  'description': 'GitHub Actions 또는 Jenkins를 활용하여 End-to-End 자동화 구성 및 배포 전략 수립',\n",
       "  'business_value': '자동화된 CI/CD 프로세스를 통해 개발 효율성을 높이고 배포 오류를 줄인다.',\n",
       "  'priority': 'High',\n",
       "  'acceptance_criteria': ['PR 생성 시 Lint, Unit Test, Build, Code Quality Check가 자동 실행된다.',\n",
       "   'Dockerfile 실행 오류 및 종속성 검증이 포함된다.',\n",
       "   '결과 이미지가 DockerHub 또는 ECR에 자동으로 푸시된다.'],\n",
       "  'included_tasks': ['GitHub Actions 또는 Jenkins를 활용한 End-to-End 자동화 구성',\n",
       "   'PR 생성 시 Lint, Unit Test, Build, Code Quality Check 자동 실행',\n",
       "   'Dockerfile 실행 오류 및 종속성 검증 포함',\n",
       "   'CodeBuild 연동 (`buildspec.yml`)',\n",
       "   'DockerHub 또는 ECR에 결과 이미지 자동 푸시']},\n",
       " {'title': '브랜치 보호 및 PR 관리',\n",
       "  'description': '브랜치 보호 규칙 설정 및 PR 템플릿 제공을 통한 코드 품질 관리',\n",
       "  'business_value': '코드 품질을 높이고 협업을 원활하게 한다.',\n",
       "  'priority': 'Medium',\n",
       "  'acceptance_criteria': ['PR 병합은 `main`, `develop` 브랜치로만 제한된다.',\n",
       "   'PR 템플릿이 제공된다.',\n",
       "   '코드 리뷰 프로세스가 문서화된다.'],\n",
       "  'included_tasks': ['PR 병합은 `main`, `develop` 브랜치로만 제한 (브랜치 보호 규칙 설정)',\n",
       "   'PR 템플릿 제공 및 코드 리뷰 프로세스 문서화']},\n",
       " {'title': '환경 설정 및 비밀 관리',\n",
       "  'description': '각 브랜치/환경별 설정 및 비밀 관리 방안 수립',\n",
       "  'business_value': '안전하고 효율적인 환경 관리를 통해 배포의 신뢰성을 높인다.',\n",
       "  'priority': 'Medium',\n",
       "  'acceptance_criteria': ['각 브랜치/환경별 `.env`, Secrets Manager, Parameter Store 등이 사용된다.'],\n",
       "  'included_tasks': ['각 브랜치/환경별 `.env`, Secrets Manager, Parameter Store 등 사용']},\n",
       " {'title': '배포 전략 및 헬스체크',\n",
       "  'description': '다양한 배포 전략을 통해 안정적인 배포 환경 구축 및 헬스체크 자동화',\n",
       "  'business_value': '안정적인 배포를 통해 서비스 가용성을 높인다.',\n",
       "  'priority': 'High',\n",
       "  'acceptance_criteria': ['블루그린, 카나리아, 롤링 배포 전략이 선택 가능하다.',\n",
       "   '배포 전후 헬스체크 및 자동 롤백이 구성된다.'],\n",
       "  'included_tasks': ['배포 전략 선택 (블루그린, 카나리아, 롤링 배포)', '배포 전후 헬스체크 및 자동 롤백 구성']},\n",
       " {'title': '배포 트리거 및 알림',\n",
       "  'description': '배포 트리거 및 알림 시스템 구축',\n",
       "  'business_value': '배포 프로세스를 자동화하고 팀원에게 즉각적인 피드백을 제공한다.',\n",
       "  'priority': 'Medium',\n",
       "  'acceptance_criteria': ['배포 트리거가 GitHub Webhook, PR 병합, 수동 승인으로 설정된다.',\n",
       "   '결과 Slack/이메일/웹훅 알림이 연동된다.'],\n",
       "  'included_tasks': ['배포 트리거: GitHub Webhook, PR 병합, 수동 승인',\n",
       "   '결과 Slack/이메일/웹훅 알림 연동']},\n",
       " {'title': '배포 이력 및 승인 관리',\n",
       "  'description': '배포 이력 및 승인 기록 관리 시스템 구축',\n",
       "  'business_value': '배포 이력을 통해 문제 발생 시 신속한 대응이 가능하다.',\n",
       "  'priority': 'Low',\n",
       "  'acceptance_criteria': ['배포 이력 및 승인 기록이 관리된다.'],\n",
       "  'included_tasks': ['배포 이력/승인 기록 관리']},\n",
       " {'title': '정책 및 템플릿 관리',\n",
       "  'description': '배포 관련 정책 및 템플릿 관리',\n",
       "  'business_value': '일관된 배포 프로세스를 통해 팀의 효율성을 높인다.',\n",
       "  'priority': 'Medium',\n",
       "  'acceptance_criteria': ['파이프라인/워크플로 명명 규칙이 설정된다.',\n",
       "   '신규 프로젝트 기본 템플릿 및 체크리스트가 제공된다.',\n",
       "   '배포 승인 프로세스 및 롤백 기준이 명시된다.'],\n",
       "  'included_tasks': ['정책 생성: 파이프라인/워크플로 명명 규칙 (`ci-<service>`, `deploy-<env>`)',\n",
       "   '신규 프로젝트 기본 템플릿 및 체크리스트 제공',\n",
       "   '배포 승인 프로세스 및 롤백 기준 명시']}]"
      ]
     },
     "execution_count": 28,
     "metadata": {},
     "output_type": "execute_result"
    }
   ],
   "source": [
    "parsed = json.loads(generated_epics_str)\n",
    "parsed "
   ]
  },
  {
   "cell_type": "code",
   "execution_count": 30,
   "id": "cdcd84c8",
   "metadata": {},
   "outputs": [],
   "source": [
    "management_infra_user_input = \"\"\"\n",
    "- EC2, ECS, EKS, S3, RDS, ALB 등 기존 사용 중인 AWS 리소스를 관리하고 주기적으로 미사용 리소스를 정리하고 분석하여 비용 최적화 방안을 모색\n",
    "- 환경별 구성 분리, 리소스 태깅\n",
    "- Auto Scaling, 예약 인스턴스, spot 인스턴스, 인스턴스 사양 관리 등 비용 최적화 방안을 찾음\n",
    "- 인증서 자동 갱신 (ACM, certbot 등)\n",
    "- IAM Role 기반 최소 권한 접근 제어를 하도록 구성하고 기존 IAM role, 정책, 사용자를 정리하고 관리\n",
    "- Route53, 도메인, SSL 인증서 갱신 관리\n",
    "- 파트너사와의 역할 분리 및 접근 제어 정책 관리 (접속 권한, 키 회수 등)\n",
    "- 리소스 태깅 정책 적용 및 예산 분류 가능하게 구성\n",
    "- **정책 생성 (**인프라 리소스 네이밍 룰 정의, 키 회수, MFA, 보안 그룹 등 보안 정책 명시, 주기적 비용 리포트 및 미사용 자원 정리 기준,민감정보 관리 기준 정책 등)\n",
    "\"\"\""
   ]
  },
  {
   "cell_type": "code",
   "execution_count": 31,
   "id": "2fe8a312",
   "metadata": {},
   "outputs": [
    {
     "name": "stderr",
     "output_type": "stream",
     "text": [
      "INFO:epic.services:에픽 생성 시작\n",
      "INFO:httpx:HTTP Request: POST https://api.openai.com/v1/chat/completions \"HTTP/1.1 200 OK\"\n",
      "INFO:epic.services:에픽 생성 완료\n"
     ]
    }
   ],
   "source": [
    "generated_epics_infra = epic_agent._generate_epics_with_llm(\n",
    "    prompt = TASK_TO_EPIC_CONVERTER_PROMPT,\n",
    "    user_input = management_infra_user_input,\n",
    "    project_info= '',\n",
    "    max_epics=10\n",
    ")"
   ]
  },
  {
   "cell_type": "code",
   "execution_count": 32,
   "id": "58253bb9",
   "metadata": {},
   "outputs": [
    {
     "name": "stdout",
     "output_type": "stream",
     "text": [
      "{'title': 'AWS 리소스 관리 및 비용 최적화', 'description': '기존 사용 중인 AWS 리소스를 관리하고 비용 최적화 방안을 모색하는 작업', 'business_value': '비용 절감 및 리소스 효율성 향상', 'priority': 'High', 'acceptance_criteria': ['모든 미사용 AWS 리소스가 식별되고 정리되었음', '비용 최적화 방안이 문서화되어 있음', '리소스 태깅 정책이 적용되어 예산 분류가 가능함'], 'included_tasks': ['EC2, ECS, EKS, S3, RDS, ALB 등 기존 사용 중인 AWS 리소스를 관리하고 주기적으로 미사용 리소스를 정리하고 분석하여 비용 최적화 방안을 모색', '환경별 구성 분리, 리소스 태깅', 'Auto Scaling, 예약 인스턴스, spot 인스턴스, 인스턴스 사양 관리 등 비용 최적화 방안을 찾음', '리소스 태깅 정책 적용 및 예산 분류 가능하게 구성']}\n",
      "{'title': '인증서 관리 및 자동 갱신', 'description': 'SSL 인증서 및 도메인 관리와 관련된 업무', 'business_value': '서비스의 보안성 강화 및 운영 효율성 증대', 'priority': 'Medium', 'acceptance_criteria': ['모든 SSL 인증서가 자동으로 갱신되도록 설정됨', '도메인 관리 프로세스가 문서화되어 있음'], 'included_tasks': ['인증서 자동 갱신 (ACM, certbot 등)', 'Route53, 도메인, SSL 인증서 갱신 관리']}\n",
      "{'title': 'IAM 및 접근 제어 관리', 'description': 'IAM Role 기반의 최소 권한 접근 제어 및 정책 관리', 'business_value': '보안 강화 및 접근 관리 효율성 증대', 'priority': 'High', 'acceptance_criteria': ['모든 IAM role, 정책, 사용자가 정리되고 관리됨', '접근 제어 정책이 문서화되어 있음'], 'included_tasks': ['IAM Role 기반 최소 권한 접근 제어를 하도록 구성하고 기존 IAM role, 정책, 사용자를 정리하고 관리', '파트너사와의 역할 분리 및 접근 제어 정책 관리 (접속 권한, 키 회수 등)']}\n",
      "{'title': '보안 정책 및 기준 설정', 'description': '인프라 리소스와 관련된 보안 정책 및 기준을 정의하는 작업', 'business_value': '보안 리스크 감소 및 규정 준수', 'priority': 'Medium', 'acceptance_criteria': ['모든 보안 정책이 문서화되어 있으며 주기적으로 검토됨', '민감정보 관리 기준이 정의되어 있음'], 'included_tasks': ['정책 생성 (인프라 리소스 네이밍 룰 정의, 키 회수, MFA, 보안 그룹 등 보안 정책 명시, 주기적 비용 리포트 및 미사용 자원 정리 기준, 민감정보 관리 기준 정책 등)']}\n"
     ]
    }
   ],
   "source": [
    "parsed_infra = json.loads(generated_epics_infra)\n",
    "\n",
    "for x in parsed_infra:\n",
    "    print(x)"
   ]
  },
  {
   "cell_type": "code",
   "execution_count": 5,
   "id": "10f76b72",
   "metadata": {},
   "outputs": [
    {
     "name": "stderr",
     "output_type": "stream",
     "text": [
      "INFO:epic.services:에픽 생성 시작\n",
      "INFO:httpx:HTTP Request: POST https://api.openai.com/v1/chat/completions \"HTTP/1.1 200 OK\"\n",
      "INFO:epic.services:에픽 생성 완료\n"
     ]
    }
   ],
   "source": [
    "monitoring_and_log_user_input = \"\"\"\n",
    "- Prometheus + Grafana로 메트릭 대시보드 구성\n",
    "- Loki + Grafana로 서비스 중인 서버의 로그 수집 및 시각화\n",
    "- 주요 이벤트(에러, 로그인, 배포 등) 자동 수집 및 보관 방법 모색 및 적용\n",
    "- Slack으로 알림연동\n",
    "- 로그 스키마/레벨 통일, JSON 기반 구조로 통일\n",
    "- 개인정보/보안 정보 마스킹 처리 방안 통일\n",
    "- 로그 보존 주기 및 저장 정책 수립\n",
    "- Datadog, ELK, CloudWatch Logs 등과 연동하는 방안 모색\n",
    "- **정책 생성(**서비스별 로그 레벨 및 포맷 표준화, 알람 임계치 설정 기준 문서화, 로그 보관 주기 및 백업 연계 정의 등)\n",
    "\"\"\"\n",
    "\n",
    "generated_epics_infra = epic_agent._generate_epics_with_llm(\n",
    "    prompt = TASK_TO_EPIC_CONVERTER_PROMPT,\n",
    "    user_input = monitoring_and_log_user_input,\n",
    "    project_info= '',\n",
    "    max_epics=10\n",
    ")\n",
    "\n",
    "parsed_infra = json.loads(generated_epics_infra)\n",
    "\n"
   ]
  },
  {
   "cell_type": "code",
   "execution_count": 7,
   "id": "8cb7ee50",
   "metadata": {},
   "outputs": [
    {
     "name": "stderr",
     "output_type": "stream",
     "text": [
      "INFO:epic.services:에픽 생성 시작\n",
      "INFO:httpx:HTTP Request: POST https://api.openai.com/v1/chat/completions \"HTTP/1.1 200 OK\"\n",
      "INFO:epic.services:에픽 생성 완료\n"
     ]
    }
   ],
   "source": [
    "container_user_input = \"\"\"\n",
    "- Dockerfile 멀티스테이지 빌드 구성\n",
    "- Docker Compose로 환경별 서비스 분리\n",
    "- 이미지 자동 배포방식 모색 및 설정\n",
    "- 환경변수 관리 방식 설정( `.env`, Secrets Manager, ConfigMap 등)\n",
    "- 컨테이너 네트워크 브릿지, 포트 바인딩, DNS 구성\n",
    "- 볼륨 마운트 및 데이터 영속화 정책\n",
    "- **Kubernetes 적용 여부 판단 후 적용 또는 미적용(**`eksctl`, `Helm` 사용한 클러스터 구성, Deployment, Service, Ingress 등 리소스 정의, Helm Chart로 템플릿화, HPA (Horizontal Pod Autoscaler) 적용 등)\n",
    "- **정책 생성 (**배포 리소스 네이밍 가이드 (Helm Chart, k8s 리소스 등), Secret, ConfigMap 분리 저장 및 암호화 기준, 이미지 취약점 검사 및 업데이트 주기 문서화 등)\n",
    "\"\"\"\n",
    "\n",
    "generated_epics_container = epic_agent._generate_epics_with_llm(\n",
    "    prompt = TASK_TO_EPIC_CONVERTER_PROMPT,\n",
    "    user_input = container_user_input,\n",
    "    project_info= '',\n",
    "    max_epics=10\n",
    ")\n",
    "\n",
    "parsed_container = json.loads(generated_epics_container)"
   ]
  },
  {
   "cell_type": "code",
   "execution_count": 9,
   "id": "0ab843cb",
   "metadata": {},
   "outputs": [
    {
     "data": {
      "text/plain": [
       "[{'title': 'Docker 환경 설정 및 관리',\n",
       "  'description': 'Docker 환경을 설정하고 관리하기 위한 작업들을 포함합니다.',\n",
       "  'business_value': '효율적인 개발 환경 구축 및 운영',\n",
       "  'priority': 'High',\n",
       "  'acceptance_criteria': ['Dockerfile 멀티스테이지 빌드가 성공적으로 구성되어야 한다.',\n",
       "   'Docker Compose를 통해 환경별 서비스가 분리되어야 한다.',\n",
       "   '환경변수 관리 방식이 설정되어야 한다.'],\n",
       "  'included_tasks': ['Dockerfile 멀티스테이지 빌드 구성',\n",
       "   'Docker Compose로 환경별 서비스 분리',\n",
       "   '환경변수 관리 방식 설정( `.env`, Secrets Manager, ConfigMap 등)']},\n",
       " {'title': '컨테이너 네트워크 및 데이터 관리',\n",
       "  'description': '컨테이너의 네트워크 및 데이터 영속성을 관리하는 작업들을 포함합니다.',\n",
       "  'business_value': '안정적인 데이터 관리 및 네트워크 구성',\n",
       "  'priority': 'Medium',\n",
       "  'acceptance_criteria': ['컨테이너 네트워크가 브릿지, 포트 바인딩, DNS 구성이 완료되어야 한다.',\n",
       "   '볼륨 마운트 및 데이터 영속화 정책이 수립되어야 한다.'],\n",
       "  'included_tasks': ['컨테이너 네트워크 브릿지, 포트 바인딩, DNS 구성', '볼륨 마운트 및 데이터 영속화 정책']},\n",
       " {'title': 'Kubernetes 클러스터 구성 및 관리',\n",
       "  'description': 'Kubernetes 클러스터를 구성하고 관리하기 위한 작업들을 포함합니다.',\n",
       "  'business_value': '확장성과 관리 용이성을 제공하는 클라우드 네이티브 환경 구축',\n",
       "  'priority': 'High',\n",
       "  'acceptance_criteria': ['Kubernetes 적용 여부가 판단되어야 하며, 적용 시 클러스터가 성공적으로 구성되어야 한다.',\n",
       "   'Deployment, Service, Ingress 등의 리소스 정의가 완료되어야 한다.',\n",
       "   'Helm Chart로 템플릿화가 완료되어야 하며, HPA가 적용되어야 한다.'],\n",
       "  'included_tasks': ['Kubernetes 적용 여부 판단 후 적용 또는 미적용(`eksctl`, `Helm` 사용한 클러스터 구성, Deployment, Service, Ingress 등 리소스 정의, Helm Chart로 템플릿화, HPA (Horizontal Pod Autoscaler) 적용 등)']},\n",
       " {'title': '배포 정책 및 보안 관리',\n",
       "  'description': '배포 리소스와 관련된 정책 및 보안 관리 작업들을 포함합니다.',\n",
       "  'business_value': '안전하고 일관된 배포 환경 구축',\n",
       "  'priority': 'Medium',\n",
       "  'acceptance_criteria': ['배포 리소스 네이밍 가이드가 작성되어야 한다.',\n",
       "   'Secret, ConfigMap의 분리 저장 및 암호화 기준이 수립되어야 한다.',\n",
       "   '이미지 취약점 검사 및 업데이트 주기가 문서화되어야 한다.'],\n",
       "  'included_tasks': ['정책 생성(배포 리소스 네이밍 가이드 (Helm Chart, k8s 리소스 등), Secret, ConfigMap 분리 저장 및 암호화 기준, 이미지 취약점 검사 및 업데이트 주기 문서화 등)']},\n",
       " {'title': '자동 배포 시스템 구축',\n",
       "  'description': '이미지 자동 배포 방식을 모색하고 설정하는 작업을 포함합니다.',\n",
       "  'business_value': '배포 효율성 향상 및 인적 오류 감소',\n",
       "  'priority': 'High',\n",
       "  'acceptance_criteria': ['이미지 자동 배포 방식이 성공적으로 설정되어야 한다.'],\n",
       "  'included_tasks': ['이미지 자동 배포방식 모색 및 설정']}]"
      ]
     },
     "execution_count": 9,
     "metadata": {},
     "output_type": "execute_result"
    }
   ],
   "source": [
    "parsed_container"
   ]
  },
  {
   "cell_type": "code",
   "execution_count": 10,
   "id": "33777caf",
   "metadata": {},
   "outputs": [
    {
     "name": "stderr",
     "output_type": "stream",
     "text": [
      "INFO:epic.services:에픽 생성 시작\n",
      "INFO:httpx:HTTP Request: POST https://api.openai.com/v1/chat/completions \"HTTP/1.1 200 OK\"\n",
      "INFO:epic.services:에픽 생성 완료\n"
     ]
    }
   ],
   "source": [
    "iac_user_input = \"\"\"\n",
    "- 기존 AWS 리소스를 포함하여 인프라를 선언형 코드로 관리하도록 전환(VPC, EC2, RDS, ALB, S3, IAM 등 리소스를 Terraform 또는 AWS CDK로 점진적 코드화, 향후 멀티 클라우드 및 온프레미스 리소스 통합 관리 고려)\n",
    "- 모듈화 및 환경별 Workspace 분리 적용 (dev, staging, prod) 및 디렉토리 구조/변수/출력 표준화 가이드 문서화\n",
    "- 코드 리뷰 및 PR 기반 인프라 변경 승인 프로세스 구축 (PR 시 terraform fmt, terraform validate, 보안 스캔(tfsec, checkov) 자동 실행)\n",
    "- CI/CD 연동으로 IaC 자동 적용 (GitHub Actions 또는 Jenkins 사용)\n",
    "- PR 생성 시 terraform plan 결과 리뷰 → 테스트 환경 자동 배포(Sandbox) → smoke test → 승인 후 apply 진행\n",
    "- IaC 상태 백엔드(S3 + DynamoDB) 구성하여 협업 충돌 방지, State 백업 및 복구 절차, Lock 해제 절차 문서화\n",
    "- 보안 정책 내재화 (IAM Role 및 Policy 정의를 코드로 관리, Security Group, NACL, S3 정책 등 보안 설정 자동화, 민감 정보는 AWS Secrets Manager / SSM Parameter Store로 분리, Secret 자동 Rotate 정책 적용, 환경별 Secret 분리)\n",
    "- 운영 최적화 구성 (Auto Scaling, Spot Instance, 예약 인스턴스 관리 포함, 모듈/변수/출력 구조를 문서화하여 재사용성 확보, 리소스 태그 관리(project, owner, env 등) 및 비용 분석 연계, AWS Compute Optimizer/Cost Explorer 연동)\n",
    "- 정책 생성 (IaC 리소스 명명 규칙(project-env-module), 접근 권한 분리: 개발자/운영자/관리자 Role 정의, 정기적인 모듈 업데이트 및 리팩토링 주기 정의, Terraform 코드 린트 + 포맷 + Static Analysis 적용)\n",
    "- 운영 모니터링 자동 구성 (CloudWatch 대시보드, 알람, 로그 그룹을 IaC 코드로 자동 생성하여 배포 직후 모니터링 환경이 완비되도록 구성)\n",
    "\"\"\"\n",
    "\n",
    "generated_epics_iac = epic_agent._generate_epics_with_llm(\n",
    "    prompt = TASK_TO_EPIC_CONVERTER_PROMPT,\n",
    "    user_input = iac_user_input,\n",
    "    project_info= '',\n",
    "    max_epics=10\n",
    ")\n",
    "\n",
    "parsed_iac = json.loads(generated_epics_iac)"
   ]
  },
  {
   "cell_type": "code",
   "execution_count": 11,
   "id": "e7e0ace4",
   "metadata": {},
   "outputs": [
    {
     "data": {
      "text/plain": [
       "[{'title': '인프라 관리 자동화',\n",
       "  'description': 'AWS 리소스를 Terraform 또는 AWS CDK로 관리하고, CI/CD 연동을 통해 인프라 변경을 자동화하는 Epic입니다.',\n",
       "  'business_value': '인프라 관리의 효율성을 높이고, 변경 사항의 안정성을 확보합니다.',\n",
       "  'priority': 'High',\n",
       "  'acceptance_criteria': ['기존 AWS 리소스를 Terraform 또는 AWS CDK로 코드화 완료',\n",
       "   'CI/CD 연동을 통해 IaC 자동 적용 프로세스 구축',\n",
       "   'PR 생성 시 terraform plan 결과 리뷰 및 테스트 환경 자동 배포 기능 구현'],\n",
       "  'included_tasks': ['기존 AWS 리소스를 포함하여 인프라를 선언형 코드로 관리하도록 전환',\n",
       "   'CI/CD 연동으로 IaC 자동 적용',\n",
       "   'PR 생성 시 terraform plan 결과 리뷰 → 테스트 환경 자동 배포(Sandbox) → smoke test → 승인 후 apply 진행']},\n",
       " {'title': '모듈화 및 환경 관리',\n",
       "  'description': '인프라 코드의 모듈화 및 환경별 Workspace 분리를 통해 관리의 일관성을 높이는 Epic입니다.',\n",
       "  'business_value': '환경별 관리의 용이성을 제공하고, 코드의 재사용성을 높입니다.',\n",
       "  'priority': 'Medium',\n",
       "  'acceptance_criteria': ['모듈화 및 환경별 Workspace 분리 적용 완료',\n",
       "   '디렉토리 구조/변수/출력 표준화 가이드 문서화 완료'],\n",
       "  'included_tasks': ['모듈화 및 환경별 Workspace 분리 적용 (dev, staging, prod) 및 디렉토리 구조/변수/출력 표준화 가이드 문서화']},\n",
       " {'title': '보안 정책 및 관리',\n",
       "  'description': '인프라의 보안을 강화하기 위한 정책을 정의하고 자동화하는 Epic입니다.',\n",
       "  'business_value': '보안 리스크를 줄이고, 인프라의 안전성을 높입니다.',\n",
       "  'priority': 'High',\n",
       "  'acceptance_criteria': ['IAM Role 및 Policy 정의를 코드로 관리 완료',\n",
       "   '민감 정보는 AWS Secrets Manager / SSM Parameter Store로 분리 및 Secret 자동 Rotate 정책 적용'],\n",
       "  'included_tasks': ['보안 정책 내재화 (IAM Role 및 Policy 정의를 코드로 관리, Security Group, NACL, S3 정책 등 보안 설정 자동화)']},\n",
       " {'title': '운영 최적화',\n",
       "  'description': 'AWS 리소스의 운영 효율성을 극대화하기 위한 최적화 작업을 수행하는 Epic입니다.',\n",
       "  'business_value': '비용 절감 및 리소스 활용도를 높입니다.',\n",
       "  'priority': 'Medium',\n",
       "  'acceptance_criteria': ['Auto Scaling 및 Spot Instance 관리 구성 완료',\n",
       "   'AWS Compute Optimizer/Cost Explorer 연동 완료'],\n",
       "  'included_tasks': ['운영 최적화 구성 (Auto Scaling, Spot Instance, 예약 인스턴스 관리 포함)']},\n",
       " {'title': '정책 및 규칙 관리',\n",
       "  'description': '인프라 리소스의 명명 규칙 및 접근 권한을 정의하고 관리하는 Epic입니다.',\n",
       "  'business_value': '조직 내 인프라 관리의 일관성을 높입니다.',\n",
       "  'priority': 'Low',\n",
       "  'acceptance_criteria': ['IaC 리소스 명명 규칙 및 접근 권한 분리 정책 정의 완료',\n",
       "   '정기적인 모듈 업데이트 및 리팩토링 주기 정의 완료'],\n",
       "  'included_tasks': ['정책 생성 (IaC 리소스 명명 규칙, 접근 권한 분리 등)']},\n",
       " {'title': '운영 모니터링 자동화',\n",
       "  'description': '인프라의 운영 상태를 모니터링하기 위한 자동화된 환경을 구축하는 Epic입니다.',\n",
       "  'business_value': '운영 상태를 실시간으로 파악하고, 문제를 조기에 발견할 수 있습니다.',\n",
       "  'priority': 'Medium',\n",
       "  'acceptance_criteria': ['CloudWatch 대시보드, 알람, 로그 그룹을 IaC 코드로 자동 생성 완료'],\n",
       "  'included_tasks': ['운영 모니터링 자동 구성 (CloudWatch 대시보드, 알람, 로그 그룹을 IaC 코드로 자동 생성)']},\n",
       " {'title': '코드 품질 관리',\n",
       "  'description': '인프라 코드의 품질을 보장하기 위한 리뷰 및 검증 프로세스를 구축하는 Epic입니다.',\n",
       "  'business_value': '코드의 품질을 높이고, 오류를 사전에 방지합니다.',\n",
       "  'priority': 'High',\n",
       "  'acceptance_criteria': ['코드 리뷰 및 PR 기반 인프라 변경 승인 프로세스 구축 완료',\n",
       "   'terraform fmt, terraform validate, 보안 스캔 자동 실행 프로세스 구현'],\n",
       "  'included_tasks': ['코드 리뷰 및 PR 기반 인프라 변경 승인 프로세스 구축']}]"
      ]
     },
     "execution_count": 11,
     "metadata": {},
     "output_type": "execute_result"
    }
   ],
   "source": [
    "parsed_iac"
   ]
  },
  {
   "cell_type": "code",
   "execution_count": 22,
   "id": "6325dac3",
   "metadata": {},
   "outputs": [
    {
     "name": "stdout",
     "output_type": "stream",
     "text": [
      "[{'title': 'CI/CD 자동화 구성', 'description': 'GitHub Actions 또는 Jenkins를 활용하여 End-to-End 자동화 구성 및 배포 전략 수립', 'business_value': '개발 프로세스의 효율성을 높이고, 배포 오류를 줄여 신속한 피드백을 제공', 'priority': 'High', 'acceptance_criteria': ['End-to-End 자동화가 성공적으로 구성되어 PR 생성 시 Lint, Unit Test, Build, Code Quality Check가 자동 실행됨', 'Dockerfile 실행 오류 및 종속성 검증이 성공적으로 수행됨', '결과 이미지가 DockerHub 또는 ECR에 자동으로 푸시됨'], 'included_tasks': ['GitHub Actions 또는 Jenkins를 활용한 End-to-End 자동화 구성(PR 생성 시 Lint, Unit Test, Build, Code Quality Check 자동 실행, Dockerfile 실행 오류 및 종속성 검증 포함)', 'DockerHub 또는 ECR에 결과 이미지 자동 푸시']}, {'title': '브랜치 보호 및 관리', 'description': 'PR 병합을 위한 브랜치 보호 규칙 설정 및 환경별 비밀 관리', 'business_value': '코드 품질을 유지하고, 배포 안정성을 높임', 'priority': 'Medium', 'acceptance_criteria': ['PR 병합이 `main`, `develop` 브랜치로만 제한됨', '각 브랜치/환경별 `.env`, Secrets Manager, Parameter Store 등이 성공적으로 설정됨'], 'included_tasks': ['PR 병합은 `main`, `develop` 브랜치로만 제한 (브랜치 보호 규칙 설정)', '각 브랜치/환경별 `.env`, Secrets Manager, Parameter Store 등 사용']}, {'title': '배포 전략 및 헬스체크', 'description': '배포 트리거 전략 수립 및 배포 전후 헬스체크 구성', 'business_value': '신뢰성 높은 배포를 통해 서비스 가용성을 극대화', 'priority': 'High', 'acceptance_criteria': ['배포 트리거 전략이 성공적으로 설정됨 (GitHub Webhook, PR 병합, 수동 승인 등)', '배포 전후 헬스체크 및 자동 롤백이 구성됨'], 'included_tasks': ['배포 트리거 전략 세운 후 적용( GitHub Webhook, PR 병합, 수동 승인 등)', '배포 전후 헬스체크 및 자동 롤백 구성']}, {'title': '배포 승인 및 이력 관리', 'description': '배포 이력 및 승인 기록을 관리하기 위한 정책 수립', 'business_value': '배포 과정의 투명성을 높이고, 문제 발생 시 신속한 대응 가능', 'priority': 'Medium', 'acceptance_criteria': ['배포 이력 및 승인 기록이 성공적으로 관리됨', '정책이 명확히 문서화되어 팀원들이 쉽게 접근할 수 있음'], 'included_tasks': ['배포 이력/승인 기록 관리']}, {'title': '배포 정책 및 템플릿 생성', 'description': '배포 관련 정책 및 템플릿을 생성하여 일관된 프로세스를 유지', 'business_value': '팀의 배포 프로세스를 표준화하여 효율성을 높임', 'priority': 'Low', 'acceptance_criteria': ['파이프라인/워크플로 명명 규칙이 설정됨', '신규 프로젝트 기본 템플릿 및 체크리스트가 제공됨'], 'included_tasks': ['정책 생성(파이프라인/워크플로 명명 규칙 , 신규 프로젝트 기본 템플릿 및 체크리스트 제공)']}]\n"
     ]
    }
   ],
   "source": [
    "parsed_1 = json.loads(generated_epics_str_1)\n",
    "print(parsed_1)"
   ]
  },
  {
   "cell_type": "code",
   "execution_count": 23,
   "id": "e1a0005c",
   "metadata": {},
   "outputs": [
    {
     "name": "stdout",
     "output_type": "stream",
     "text": [
      "AWS 리소스 관리 및 최적화\n",
      "S3 버킷 관리 및 데이터 보존\n",
      "보안 및 접근 제어 정책 관리\n",
      "모니터링 및 알람 설정\n",
      "비용 관리 및 리포트 작성\n",
      "도메인 및 SSL 인증서 관리\n"
     ]
    }
   ],
   "source": [
    "for x in parsed:\n",
    "    print(x['title'])"
   ]
  },
  {
   "cell_type": "code",
   "execution_count": 26,
   "id": "965960b3",
   "metadata": {},
   "outputs": [
    {
     "name": "stdout",
     "output_type": "stream",
     "text": [
      "AWS 리소스 관리 및 최적화\n",
      "S3 버킷 관리 및 데이터 보존\n",
      "보안 및 접근 제어 정책 관리\n",
      "모니터링 및 알람 설정\n",
      "비용 관리 및 리포트 작성\n",
      "도메인 및 SSL 인증서 관리\n"
     ]
    }
   ],
   "source": [
    "for x in parsed_infra:\n",
    "    print(x['title'])"
   ]
  },
  {
   "cell_type": "code",
   "execution_count": 24,
   "id": "9fff537d",
   "metadata": {},
   "outputs": [
    {
     "ename": "NameError",
     "evalue": "name 'parsed_1' is not defined",
     "output_type": "error",
     "traceback": [
      "\u001b[0;31m---------------------------------------------------------------------------\u001b[0m",
      "\u001b[0;31mNameError\u001b[0m                                 Traceback (most recent call last)",
      "Cell \u001b[0;32mIn[24], line 1\u001b[0m\n\u001b[0;32m----> 1\u001b[0m \u001b[38;5;28;01mfor\u001b[39;00m x \u001b[38;5;129;01min\u001b[39;00m \u001b[43mparsed_1\u001b[49m:\n\u001b[1;32m      2\u001b[0m     \u001b[38;5;28mprint\u001b[39m(x[\u001b[38;5;124m'\u001b[39m\u001b[38;5;124mtitle\u001b[39m\u001b[38;5;124m'\u001b[39m])\n",
      "\u001b[0;31mNameError\u001b[0m: name 'parsed_1' is not defined"
     ]
    }
   ],
   "source": [
    "for x in parsed_1:\n",
    "    print(x['title'])"
   ]
  },
  {
   "cell_type": "code",
   "execution_count": 26,
   "id": "37649829",
   "metadata": {},
   "outputs": [],
   "source": [
    "# 하위 항목 구성 수정 \n",
    "# *및 띄어쓰기 삭제\n",
    "user_input_2 = \"\"\"GitHub Actions 또는 Jenkins를 활용한 End-to-End 자동화 구성(PR 생성 시 Lint, Unit Test, Build, Code Quality Check 자동 실행, Dockerfile 실행 오류 및 종속성 검증 포함), PR 병합은 main, develop 브랜치로만 제한 (브랜치 보호 규칙 설정), 각 브랜치/환경별 .env, Secrets Manager, Parameter Store 등 사용, CodeBuild 연동 (buildspec.yml), DockerHub 또는 ECR에 결과 이미지 자동 푸시, CI/CD 결과를 Slack/이메일/웹훅 알림으로 연동, 배포 트리거 전략 세운 후 적용(GitHub Webhook, PR 병합, 수동 승인 등), 배포 전략 선택(블루그린 배포(Blue/Green), 카나리아 배포, 롤링 배포 중에 선택 후 적용), AWS IAM Role, SSH 키를 통한 보안 배포, 배포 전후 헬스체크 및 자동 롤백 구성, 배포 이력/승인 기록 관리, 정책 생성(파이프라인/워크플로 명명 규칙, 신규 프로젝트 기본 템플릿 및 체크리스트 제공, 배포 승인 프로세스 및 롤백 기준 명시, PR 템플릿 제공 및 코드 리뷰 프로세스 문서화 등)\"\"\""
   ]
  },
  {
   "cell_type": "code",
   "execution_count": 27,
   "id": "c3a661a0",
   "metadata": {},
   "outputs": [
    {
     "name": "stderr",
     "output_type": "stream",
     "text": [
      "INFO:epic.services:에픽 생성 시작\n",
      "INFO:httpx:HTTP Request: POST https://api.openai.com/v1/chat/completions \"HTTP/1.1 200 OK\"\n",
      "INFO:epic.services:에픽 생성 완료\n"
     ]
    }
   ],
   "source": [
    "generated_epics_str_2 = epic_agent._generate_epics_with_llm(\n",
    "    prompt = TASK_TO_EPIC_CONVERTER_PROMPT,\n",
    "    user_input = user_input_2,\n",
    "    project_info= '',\n",
    "    max_epics=10\n",
    ")"
   ]
  },
  {
   "cell_type": "code",
   "execution_count": 28,
   "id": "e52f3573",
   "metadata": {},
   "outputs": [
    {
     "name": "stdout",
     "output_type": "stream",
     "text": [
      "[{'title': 'CI/CD 자동화 구성', 'description': 'GitHub Actions 또는 Jenkins를 활용하여 End-to-End CI/CD 자동화 프로세스를 구성한다.', 'business_value': '개발 및 배포 프로세스의 효율성을 높이고, 코드 품질을 유지하여 빠른 피드백을 제공한다.', 'priority': 'High', 'acceptance_criteria': ['PR 생성 시 Lint, Unit Test, Build, Code Quality Check가 자동으로 실행된다.', 'Dockerfile 실행 오류 및 종속성 검증이 포함된다.', 'CI/CD 결과가 Slack/이메일/웹훅으로 알림된다.'], 'included_tasks': ['GitHub Actions 또는 Jenkins를 활용한 End-to-End 자동화 구성', 'PR 생성 시 Lint, Unit Test, Build, Code Quality Check 자동 실행', 'Dockerfile 실행 오류 및 종속성 검증 포함', 'CI/CD 결과를 Slack/이메일/웹훅 알림으로 연동']}, {'title': '브랜치 보호 및 관리', 'description': '코드 품질을 보장하기 위해 특정 브랜치에 대한 보호 규칙을 설정하고 관리한다.', 'business_value': '코드의 안정성을 높이고, 팀원 간의 협업을 원활하게 한다.', 'priority': 'Medium', 'acceptance_criteria': ['PR 병합은 main, develop 브랜치로만 제한된다.', '브랜치 보호 규칙이 설정된다.'], 'included_tasks': ['PR 병합은 main, develop 브랜치로만 제한', '브랜치 보호 규칙 설정']}, {'title': '환경 설정 및 비밀 관리', 'description': '각 브랜치 및 환경에 필요한 설정을 관리하고 비밀 정보를 안전하게 저장한다.', 'business_value': '환경별 설정을 체계적으로 관리하여 배포의 신뢰성을 높인다.', 'priority': 'Medium', 'acceptance_criteria': ['.env, Secrets Manager, Parameter Store가 사용된다.'], 'included_tasks': ['각 브랜치/환경별 .env, Secrets Manager, Parameter Store 등 사용']}, {'title': 'Docker 이미지 관리', 'description': 'CI/CD 프로세스에서 Docker 이미지를 자동으로 빌드하고 푸시하는 기능을 구현한다.', 'business_value': '애플리케이션 배포의 일관성을 유지하고, 배포 속도를 향상시킨다.', 'priority': 'High', 'acceptance_criteria': ['CodeBuild와 연동하여 buildspec.yml이 사용된다.', 'DockerHub 또는 ECR에 결과 이미지가 자동으로 푸시된다.'], 'included_tasks': ['CodeBuild 연동 (buildspec.yml)', 'DockerHub 또는 ECR에 결과 이미지 자동 푸시']}, {'title': '배포 전략 및 트리거 관리', 'description': '효율적인 배포를 위해 다양한 배포 전략과 트리거를 설정한다.', 'business_value': '배포의 유연성을 높이고, 운영 중인 서비스의 가용성을 보장한다.', 'priority': 'High', 'acceptance_criteria': ['배포 트리거 전략이 설정된다.', '배포 전략이 블루그린, 카나리아, 롤링 중 하나로 선택된다.'], 'included_tasks': ['배포 트리거 전략 세운 후 적용', '배포 전략 선택(블루그린 배포, 카나리아 배포, 롤링 배포 중에 선택 후 적용)']}, {'title': '보안 배포 구성', 'description': '배포 과정에서 보안을 강화하기 위한 역할 및 키 관리를 수행한다.', 'business_value': '배포의 보안을 강화하여 데이터 유출 및 악의적인 공격을 방지한다.', 'priority': 'High', 'acceptance_criteria': ['AWS IAM Role 및 SSH 키를 통한 보안 배포가 구성된다.'], 'included_tasks': ['AWS IAM Role, SSH 키를 통한 보안 배포']}, {'title': '배포 헬스체크 및 롤백', 'description': '배포 전후의 상태를 점검하고 문제가 발생할 경우 자동으로 롤백하는 기능을 구현한다.', 'business_value': '서비스의 안정성을 높이고, 사용자 경험을 보호한다.', 'priority': 'High', 'acceptance_criteria': ['배포 전후 헬스체크가 수행된다.', '문제가 발생할 경우 자동 롤백이 구성된다.'], 'included_tasks': ['배포 전후 헬스체크 및 자동 롤백 구성']}, {'title': '배포 이력 및 승인 관리', 'description': '배포 이력과 승인 기록을 관리하여 추적 가능성을 높인다.', 'business_value': '배포 과정의 투명성을 높이고, 문제 발생 시 신속한 대응이 가능하다.', 'priority': 'Medium', 'acceptance_criteria': ['배포 이력 및 승인 기록이 관리된다.'], 'included_tasks': ['배포 이력/승인 기록 관리']}, {'title': '정책 및 템플릿 관리', 'description': '프로젝트의 일관성을 위해 배포 관련 정책과 템플릿을 제공한다.', 'business_value': '팀의 작업 효율성을 높이고, 품질 기준을 유지한다.', 'priority': 'Medium', 'acceptance_criteria': ['파이프라인/워크플로 명명 규칙이 설정된다.', '신규 프로젝트 기본 템플릿 및 체크리스트가 제공된다.'], 'included_tasks': ['정책 생성(파이프라인/워크플로 명명 규칙, 신규 프로젝트 기본 템플릿 및 체크리스트 제공)']}]\n"
     ]
    }
   ],
   "source": [
    "parsed_2 = json.loads(generated_epics_str_1)\n",
    "print(parsed_2)"
   ]
  },
  {
   "cell_type": "code",
   "execution_count": null,
   "id": "7b16f9fa",
   "metadata": {},
   "outputs": [],
   "source": []
  }
 ],
 "metadata": {
  "kernelspec": {
   "display_name": "Python 3",
   "language": "python",
   "name": "python3"
  },
  "language_info": {
   "codemirror_mode": {
    "name": "ipython",
    "version": 3
   },
   "file_extension": ".py",
   "mimetype": "text/x-python",
   "name": "python",
   "nbconvert_exporter": "python",
   "pygments_lexer": "ipython3",
   "version": "3.11.11"
  }
 },
 "nbformat": 4,
 "nbformat_minor": 5
}
